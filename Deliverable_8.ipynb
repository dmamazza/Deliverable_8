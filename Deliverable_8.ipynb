{
 "cells": [
  {
   "cell_type": "code",
   "execution_count": 6,
   "id": "0ba77491",
   "metadata": {},
   "outputs": [
    {
     "name": "stdout",
     "output_type": "stream",
     "text": [
      "Enter an integer between 5 and 156\n",
      "The element of the arrays are:  [39 11 16 18 38 27]\n",
      "The sum is:  149\n"
     ]
    }
   ],
   "source": [
    "import numpy as np\n",
    "\n",
    "def random_list(size):\n",
    "  list = []\n",
    "  for x in range(size):\n",
    "    list.append(np.random.randint(10,50))\n",
    "  return list\n",
    "\n",
    "def sum_random (list):\n",
    "  sum = 0\n",
    "  for x in range(len(list)):\n",
    "    sum = sum + list[x]\n",
    "  return sum\n",
    "\n",
    "n = int(input(\"Enter an integer between 5 and 15\"))\n",
    "\n",
    "MyList = random_list(n)\n",
    "\n",
    "MySum = sum_random(MyList)\n",
    "\n",
    "MyList2 = np.random.randint(10, 50, n)\n",
    "\n",
    "MySum2 = sum(MyList2)\n",
    "\n",
    "print('The element of the arrays are: ',MyList2)\n",
    "print(\"The sum is: \",MySum2)"
   ]
  },
  {
   "cell_type": "code",
   "execution_count": null,
   "id": "5f6c6427",
   "metadata": {},
   "outputs": [],
   "source": []
  }
 ],
 "metadata": {
  "kernelspec": {
   "display_name": "Python 3 (ipykernel)",
   "language": "python",
   "name": "python3"
  },
  "language_info": {
   "codemirror_mode": {
    "name": "ipython",
    "version": 3
   },
   "file_extension": ".py",
   "mimetype": "text/x-python",
   "name": "python",
   "nbconvert_exporter": "python",
   "pygments_lexer": "ipython3",
   "version": "3.9.13"
  }
 },
 "nbformat": 4,
 "nbformat_minor": 5
}
